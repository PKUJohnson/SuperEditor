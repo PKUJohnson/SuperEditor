{
 "cells": [
  {
   "cell_type": "code",
   "execution_count": 1,
   "metadata": {},
   "outputs": [],
   "source": [
    "# 主要的逻辑还是一个排列组合的逻辑，比如我有9个球，我逐个用1个板到8个板去切分，看每次切分有多少种可能\n",
    "# 然后在迭代的过程中，删除一些不符合条件的情况\n",
    "# 如果遇到重复的列表，那么久删除重复的情况"
   ]
  },
  {
   "cell_type": "code",
   "execution_count": 2,
   "metadata": {
    "collapsed": true
   },
   "outputs": [],
   "source": [
    "import itertools\n",
    "from itertools import product \n",
    "import  numpy as np\n",
    "\n",
    "\n",
    "def max_values(n,x):    \n",
    "    max_value=0    \n",
    "    iters=np.arange(0,x,1)    \n",
    "    for i in iters:        \n",
    "        max_value= np.power((n-x+2),i)*(n-x+1)+max_value    \n",
    "    return max_value\n",
    "\n",
    "def min_values(n,x):    \n",
    "    min_value=0    \n",
    "    iters=np.arange(0,x,1)    \n",
    "    for i in iters:        \n",
    "        min_value= np.power((n-x+2),i)*1+min_value    \n",
    "    return min_value \n",
    "\n",
    "\n",
    "def f(n,x):    \n",
    "    a=range(1,30,1)    \n",
    "    b=[]    \n",
    "    while True:        \n",
    "        s=n//x        \n",
    "        y=n%x        \n",
    "        b=b+[y]        \n",
    "        if s==0:            \n",
    "            break        \n",
    "        n=s    \n",
    "    b.reverse()    \n",
    "    b=list(b)    \n",
    "    return  b"
   ]
  },
  {
   "cell_type": "code",
   "execution_count": 3,
   "metadata": {},
   "outputs": [
    {
     "name": "stdout",
     "output_type": "stream",
     "text": [
      "[(1, 1, 7), (2, 2, 5), (1, 2, 2, 2, 2), (1, 4, 4), (9,), (1, 1, 2, 2, 3), (1, 1, 3, 4), (1, 1, 1, 1, 1, 2, 2), (1, 1, 1, 2, 2, 2), (3, 3, 3), (1, 1, 1, 1, 5), (1, 1, 2, 5), (1, 1, 1, 2, 4), (1, 2, 2, 4), (1, 1, 1, 1, 2, 3), (1, 2, 3, 3), (1, 1, 1, 1, 1, 1, 1, 1, 1), (3, 6), (4, 5), (1, 1, 1, 1, 1, 1, 3), (1, 1, 1, 6), (2, 7), (1, 2, 6), (1, 3, 5), (1, 1, 1, 1, 1, 1, 1, 2), (1, 8), (1, 1, 1, 3, 3), (1, 1, 1, 1, 1, 4), (2, 3, 4), (2, 2, 2, 3)]\n"
     ]
    }
   ],
   "source": [
    "a=[1,2,3,4,5,6,7,8,9]#a的长度就是我们输入的一个整数值，这里取list的长度代替这个数\n",
    "iters=np.arange(1,a.__len__()+1,1)\n",
    "contianer=[]\n",
    "discontianer=[]\n",
    "count=0\n",
    "for i in iters:    \n",
    "    for j in (np.arange(min_values(a.__len__(),i),max_values(a.__len__(),i)+1,1)):        \n",
    "        b=f(j,a.__len__()-i+2)        \n",
    "        if sum(b)==a.__len__() and (0 not in b):            \n",
    "            contianer.append(tuple(sorted(b)))            \n",
    "            discontianer=list(set(contianer))\n",
    "print(discontianer)"
   ]
  }
 ],
 "metadata": {
  "kernelspec": {
   "display_name": "Python 3",
   "language": "python",
   "name": "python3"
  },
  "language_info": {
   "codemirror_mode": {
    "name": "ipython",
    "version": 3
   },
   "file_extension": ".py",
   "mimetype": "text/x-python",
   "name": "python",
   "nbconvert_exporter": "python",
   "pygments_lexer": "ipython3",
   "version": "3.6.1"
  }
 },
 "nbformat": 4,
 "nbformat_minor": 2
}
