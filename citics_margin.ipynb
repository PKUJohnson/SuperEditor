{
 "cells": [
  {
   "cell_type": "code",
   "execution_count": 1,
   "metadata": {
    "collapsed": true
   },
   "outputs": [],
   "source": [
    "import numpy as np\n",
    "import pandas as pd\n",
    "import pymssql\n",
    "import matplotlib.pyplot as plt\n",
    "import matplotlib.dates as mdates    #處理日期\n",
    "\n",
    "# 万得数据库连接，修改对应的连接\n",
    "wind_conn = pymssql.connect(host='10.88.52.193',user='username', password='password', database='wind_db_fs',charset=\"utf8\")"
   ]
  },
  {
   "cell_type": "code",
   "execution_count": 2,
   "metadata": {
    "collapsed": true
   },
   "outputs": [],
   "source": [
    "# 从万得数据库获取数据\n",
    "margin_sql = \"SELECT TRADE_DT,S_INFO_WINDCODE,S_MARGIN_PURCHWITHBORROWMONEY,S_MARGIN_TRADINGBALANCE,S_MARGIN_SALESOFBORROWEDSEC,\"\\\n",
    "             \"S_MARGIN_SECLENDINGBALANCEVOL,S_MARGIN_SECLENDINGBALANCE,S_MARGIN_MARGINTRADEBALANCE  FROM ASHAREMARGINTRADE WHERE TRADE_DT > 20190101\"\n",
    "margin_data = pd.read_sql(margin_sql,con=wind_conn)\n",
    "# 重置数据索引，并排序\n",
    "margin_data.set_index(['TRADE_DT','S_INFO_WINDCODE'],inplace=True)\n",
    "margin_data.sort_index(inplace=True)\n",
    "# 数据处理\n",
    "margin_data['S_MARGIN_PURCHWITHBORROWMONEY'] = margin_data['S_MARGIN_PURCHWITHBORROWMONEY']/100000000\n",
    "margin_data['S_MARGIN_TRADINGBALANCE'] = margin_data['S_MARGIN_TRADINGBALANCE']/100000000\n",
    "margin_data['S_MARGIN_SALESOFBORROWEDSEC'] = margin_data['S_MARGIN_SALESOFBORROWEDSEC']/10000\n",
    "margin_data['S_MARGIN_SECLENDINGBALANCEVOL'] = margin_data['S_MARGIN_SECLENDINGBALANCEVOL']/10000\n",
    "margin_data['S_MARGIN_SECLENDINGBALANCE'] = margin_data['S_MARGIN_SECLENDINGBALANCE']/10000\n",
    "margin_data['S_MARGIN_MARGINTRADEBALANCE'] = margin_data['S_MARGIN_MARGINTRADEBALANCE']/100000000\n",
    "# 重置列名\n",
    "margin_data.columns=['融资买入额(亿元)','融资余额(亿元)','融券卖出量(万股)','融券余量(万股)','融券余额(万元)','融资融券余额(亿元)']"
   ]
  },
  {
   "cell_type": "code",
   "execution_count": 3,
   "metadata": {
    "collapsed": true
   },
   "outputs": [],
   "source": [
    "# 统计数据\n",
    "# 每个标的融资余额融券余额的最大值\n",
    "stock_max = margin_data[['融资余额(亿元)','融券余额(万元)']].groupby(level=1).max()\n",
    "# 每个标的融资余额融券余额的最小值\n",
    "stock_min = margin_data[['融资余额(亿元)','融券余额(万元)']].groupby(level=1).min()\n",
    "# 每个标的融资余额融券余额的均值\n",
    "stock_mean = margin_data[['融资余额(亿元)','融券余额(万元)']].groupby(level=1).mean()\n",
    "# 每个标的融资余额融券余额的标准差\n",
    "stock_std = margin_data[['融资余额(亿元)','融券余额(万元)']].groupby(level=1).std()"
   ]
  },
  {
   "cell_type": "code",
   "execution_count": 51,
   "metadata": {},
   "outputs": [
    {
     "data": {
      "text/html": [
       "<div>\n",
       "<style scoped>\n",
       "    .dataframe tbody tr th:only-of-type {\n",
       "        vertical-align: middle;\n",
       "    }\n",
       "\n",
       "    .dataframe tbody tr th {\n",
       "        vertical-align: top;\n",
       "    }\n",
       "\n",
       "    .dataframe thead th {\n",
       "        text-align: right;\n",
       "    }\n",
       "</style>\n",
       "<table border=\"1\" class=\"dataframe\">\n",
       "  <thead>\n",
       "    <tr style=\"text-align: right;\">\n",
       "      <th></th>\n",
       "      <th>融资余额(亿元)</th>\n",
       "      <th>融券余额(万元)</th>\n",
       "    </tr>\n",
       "    <tr>\n",
       "      <th>S_INFO_WINDCODE</th>\n",
       "      <th></th>\n",
       "      <th></th>\n",
       "    </tr>\n",
       "  </thead>\n",
       "  <tbody>\n",
       "    <tr>\n",
       "      <th>000001.SZ</th>\n",
       "      <td>42.428346</td>\n",
       "      <td>10722.2376</td>\n",
       "    </tr>\n",
       "    <tr>\n",
       "      <th>000002.SZ</th>\n",
       "      <td>39.951620</td>\n",
       "      <td>9110.9425</td>\n",
       "    </tr>\n",
       "    <tr>\n",
       "      <th>000006.SZ</th>\n",
       "      <td>7.598674</td>\n",
       "      <td>598.7367</td>\n",
       "    </tr>\n",
       "    <tr>\n",
       "      <th>000008.SZ</th>\n",
       "      <td>5.744242</td>\n",
       "      <td>868.4548</td>\n",
       "    </tr>\n",
       "    <tr>\n",
       "      <th>000009.SZ</th>\n",
       "      <td>16.475551</td>\n",
       "      <td>6723.0209</td>\n",
       "    </tr>\n",
       "  </tbody>\n",
       "</table>\n",
       "</div>"
      ],
      "text/plain": [
       "                  融资余额(亿元)    融券余额(万元)\n",
       "S_INFO_WINDCODE                       \n",
       "000001.SZ        42.428346  10722.2376\n",
       "000002.SZ        39.951620   9110.9425\n",
       "000006.SZ         7.598674    598.7367\n",
       "000008.SZ         5.744242    868.4548\n",
       "000009.SZ        16.475551   6723.0209"
      ]
     },
     "execution_count": 51,
     "metadata": {},
     "output_type": "execute_result"
    }
   ],
   "source": [
    "# 最大值\n",
    "stock_max.head()"
   ]
  },
  {
   "cell_type": "code",
   "execution_count": 52,
   "metadata": {},
   "outputs": [
    {
     "data": {
      "text/html": [
       "<div>\n",
       "<style scoped>\n",
       "    .dataframe tbody tr th:only-of-type {\n",
       "        vertical-align: middle;\n",
       "    }\n",
       "\n",
       "    .dataframe tbody tr th {\n",
       "        vertical-align: top;\n",
       "    }\n",
       "\n",
       "    .dataframe thead th {\n",
       "        text-align: right;\n",
       "    }\n",
       "</style>\n",
       "<table border=\"1\" class=\"dataframe\">\n",
       "  <thead>\n",
       "    <tr style=\"text-align: right;\">\n",
       "      <th></th>\n",
       "      <th>融资余额(亿元)</th>\n",
       "      <th>融券余额(万元)</th>\n",
       "    </tr>\n",
       "    <tr>\n",
       "      <th>S_INFO_WINDCODE</th>\n",
       "      <th></th>\n",
       "      <th></th>\n",
       "    </tr>\n",
       "  </thead>\n",
       "  <tbody>\n",
       "    <tr>\n",
       "      <th>000001.SZ</th>\n",
       "      <td>29.368399</td>\n",
       "      <td>557.3386</td>\n",
       "    </tr>\n",
       "    <tr>\n",
       "      <th>000002.SZ</th>\n",
       "      <td>14.506292</td>\n",
       "      <td>2179.5288</td>\n",
       "    </tr>\n",
       "    <tr>\n",
       "      <th>000006.SZ</th>\n",
       "      <td>4.998915</td>\n",
       "      <td>23.3500</td>\n",
       "    </tr>\n",
       "    <tr>\n",
       "      <th>000008.SZ</th>\n",
       "      <td>1.024555</td>\n",
       "      <td>0.0000</td>\n",
       "    </tr>\n",
       "    <tr>\n",
       "      <th>000009.SZ</th>\n",
       "      <td>10.695463</td>\n",
       "      <td>21.3709</td>\n",
       "    </tr>\n",
       "  </tbody>\n",
       "</table>\n",
       "</div>"
      ],
      "text/plain": [
       "                  融资余额(亿元)   融券余额(万元)\n",
       "S_INFO_WINDCODE                      \n",
       "000001.SZ        29.368399   557.3386\n",
       "000002.SZ        14.506292  2179.5288\n",
       "000006.SZ         4.998915    23.3500\n",
       "000008.SZ         1.024555     0.0000\n",
       "000009.SZ        10.695463    21.3709"
      ]
     },
     "execution_count": 52,
     "metadata": {},
     "output_type": "execute_result"
    }
   ],
   "source": [
    "# 最小值\n",
    "stock_min.head()"
   ]
  },
  {
   "cell_type": "code",
   "execution_count": 53,
   "metadata": {},
   "outputs": [
    {
     "data": {
      "text/html": [
       "<div>\n",
       "<style scoped>\n",
       "    .dataframe tbody tr th:only-of-type {\n",
       "        vertical-align: middle;\n",
       "    }\n",
       "\n",
       "    .dataframe tbody tr th {\n",
       "        vertical-align: top;\n",
       "    }\n",
       "\n",
       "    .dataframe thead th {\n",
       "        text-align: right;\n",
       "    }\n",
       "</style>\n",
       "<table border=\"1\" class=\"dataframe\">\n",
       "  <thead>\n",
       "    <tr style=\"text-align: right;\">\n",
       "      <th></th>\n",
       "      <th>融资余额(亿元)</th>\n",
       "      <th>融券余额(万元)</th>\n",
       "    </tr>\n",
       "    <tr>\n",
       "      <th>S_INFO_WINDCODE</th>\n",
       "      <th></th>\n",
       "      <th></th>\n",
       "    </tr>\n",
       "  </thead>\n",
       "  <tbody>\n",
       "    <tr>\n",
       "      <th>000001.SZ</th>\n",
       "      <td>34.348230</td>\n",
       "      <td>3601.682447</td>\n",
       "    </tr>\n",
       "    <tr>\n",
       "      <th>000002.SZ</th>\n",
       "      <td>27.237833</td>\n",
       "      <td>4436.577988</td>\n",
       "    </tr>\n",
       "    <tr>\n",
       "      <th>000006.SZ</th>\n",
       "      <td>6.208969</td>\n",
       "      <td>143.955907</td>\n",
       "    </tr>\n",
       "    <tr>\n",
       "      <th>000008.SZ</th>\n",
       "      <td>3.597870</td>\n",
       "      <td>63.060894</td>\n",
       "    </tr>\n",
       "    <tr>\n",
       "      <th>000009.SZ</th>\n",
       "      <td>12.556363</td>\n",
       "      <td>803.243013</td>\n",
       "    </tr>\n",
       "  </tbody>\n",
       "</table>\n",
       "</div>"
      ],
      "text/plain": [
       "                  融资余额(亿元)     融券余额(万元)\n",
       "S_INFO_WINDCODE                        \n",
       "000001.SZ        34.348230  3601.682447\n",
       "000002.SZ        27.237833  4436.577988\n",
       "000006.SZ         6.208969   143.955907\n",
       "000008.SZ         3.597870    63.060894\n",
       "000009.SZ        12.556363   803.243013"
      ]
     },
     "execution_count": 53,
     "metadata": {},
     "output_type": "execute_result"
    }
   ],
   "source": [
    "# 均值\n",
    "stock_mean.head()"
   ]
  },
  {
   "cell_type": "code",
   "execution_count": 54,
   "metadata": {},
   "outputs": [
    {
     "data": {
      "text/html": [
       "<div>\n",
       "<style scoped>\n",
       "    .dataframe tbody tr th:only-of-type {\n",
       "        vertical-align: middle;\n",
       "    }\n",
       "\n",
       "    .dataframe tbody tr th {\n",
       "        vertical-align: top;\n",
       "    }\n",
       "\n",
       "    .dataframe thead th {\n",
       "        text-align: right;\n",
       "    }\n",
       "</style>\n",
       "<table border=\"1\" class=\"dataframe\">\n",
       "  <thead>\n",
       "    <tr style=\"text-align: right;\">\n",
       "      <th></th>\n",
       "      <th>融资余额(亿元)</th>\n",
       "      <th>融券余额(万元)</th>\n",
       "    </tr>\n",
       "    <tr>\n",
       "      <th>S_INFO_WINDCODE</th>\n",
       "      <th></th>\n",
       "      <th></th>\n",
       "    </tr>\n",
       "  </thead>\n",
       "  <tbody>\n",
       "    <tr>\n",
       "      <th>000001.SZ</th>\n",
       "      <td>2.641221</td>\n",
       "      <td>2341.063990</td>\n",
       "    </tr>\n",
       "    <tr>\n",
       "      <th>000002.SZ</th>\n",
       "      <td>5.738538</td>\n",
       "      <td>1267.052731</td>\n",
       "    </tr>\n",
       "    <tr>\n",
       "      <th>000006.SZ</th>\n",
       "      <td>0.653761</td>\n",
       "      <td>105.494734</td>\n",
       "    </tr>\n",
       "    <tr>\n",
       "      <th>000008.SZ</th>\n",
       "      <td>0.908185</td>\n",
       "      <td>134.954229</td>\n",
       "    </tr>\n",
       "    <tr>\n",
       "      <th>000009.SZ</th>\n",
       "      <td>1.206532</td>\n",
       "      <td>1323.661662</td>\n",
       "    </tr>\n",
       "  </tbody>\n",
       "</table>\n",
       "</div>"
      ],
      "text/plain": [
       "                 融资余额(亿元)     融券余额(万元)\n",
       "S_INFO_WINDCODE                       \n",
       "000001.SZ        2.641221  2341.063990\n",
       "000002.SZ        5.738538  1267.052731\n",
       "000006.SZ        0.653761   105.494734\n",
       "000008.SZ        0.908185   134.954229\n",
       "000009.SZ        1.206532  1323.661662"
      ]
     },
     "execution_count": 54,
     "metadata": {},
     "output_type": "execute_result"
    }
   ],
   "source": [
    "# 标准差\n",
    "stock_std.head()"
   ]
  },
  {
   "cell_type": "code",
   "execution_count": 49,
   "metadata": {
    "collapsed": true
   },
   "outputs": [],
   "source": [
    "def generate_figure(stock_code):\n",
    "    \"\"\"生成个股融资融券余额的走势图，入参stock_code(str)\"\"\"\n",
    "    temp_data = margin_data.loc[pd.IndexSlice[:,stock_code],['融资余额(亿元)','融券余额(万元)']]\n",
    "    temp_data.index = temp_data.index.droplevel(1)\n",
    "    # ---------- 解决中文乱码问题 ---------- #\n",
    "    plt.rcParams['font.sans-serif'] = ['SimHei']\n",
    "    plt.rcParams['axes.unicode_minus'] = False\n",
    "    x = np.arange(0,len(temp_data))\n",
    "    y1 = temp_data['融资余额(亿元)']\n",
    "    y2 = temp_data['融券余额(万元)']\n",
    "\n",
    "    fig = plt.figure(figsize=(8,4))\n",
    "    ax1 = fig.add_subplot(111)\n",
    "    ax1.plot(x, y1)\n",
    "    ax1.set_ylabel('融资余额(亿元)-蓝色')\n",
    "    ax1.set_title(stock_code + \"融资融券余额走势\")\n",
    "    # ax1.set_xlabel(x_tick)\n",
    "\n",
    "    ax2 = ax1.twinx()  # this is the important function\n",
    "    ax2.plot(x, y2, 'r')\n",
    "    ax2.set_xlim([0,len(temp_data)])\n",
    "    ax2.set_ylabel('融券余额(万元)-红色')\n",
    "    # ax1.set_xlabel(x_tick)\n",
    "\n",
    "    plt.show()"
   ]
  },
  {
   "cell_type": "code",
   "execution_count": 55,
   "metadata": {},
   "outputs": [
    {
     "data": {
      "image/png": "[encoded data removed]",
      "text/plain": [
       "<matplotlib.figure.Figure at 0x22f33048>"
      ]
     },
     "metadata": {},
     "output_type": "display_data"
    }
   ],
   "source": [
    "# 生成融资融券余额走势图\n",
    "generate_figure('000001.SZ')"
   ]
  }
 ],
 "metadata": {
  "kernelspec": {
   "display_name": "Python 3",
   "language": "python",
   "name": "python3"
  },
  "language_info": {
   "codemirror_mode": {
    "name": "ipython",
    "version": 3
   },
   "file_extension": ".py",
   "mimetype": "text/x-python",
   "name": "python",
   "nbconvert_exporter": "python",
   "pygments_lexer": "ipython3",
   "version": "3.6.1"
  }
 },
 "nbformat": 4,
 "nbformat_minor": 2
}
